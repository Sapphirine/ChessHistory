{
 "cells": [
  {
   "cell_type": "code",
   "execution_count": 4,
   "metadata": {},
   "outputs": [
    {
     "data": {
      "text/plain": [
       "[\"('2000.03.14', 'Kasparov, Garry', '2851')\",\n",
       " \"('2000.03.14', 'Kasparov, Garry', '2851')\",\n",
       " \"('1999.11.20', 'Kasparov, Garry', '2851')\",\n",
       " \"('1999.11.20', 'Kasparov, Garry', '2851')\",\n",
       " \"('2000.02.20', 'Kasparov, Garry', '2851')\",\n",
       " \"('2000.02.20', 'Piket, Jeroen', '2633')\",\n",
       " \"('2000.05.24', 'Kasparov, Garry', '2851')\",\n",
       " \"('2000.05.24', 'Morozevich, Alexander', '2748')\",\n",
       " \"('2000.06.19', 'Kasparov, Garry', '2851')\",\n",
       " \"('2000.06.19', 'Niebling, Ferdinand', '2191')\",\n",
       " \"('1999.11.20', 'Kasparov, Garry', '2851')\",\n",
       " \"('2000.06.19', 'Kasparov, Garry', '2851')\",\n",
       " \"('2000.06.19', 'Gypser, Andreas', '2175')\",\n",
       " \"('2000.01.18', 'Kasparov, Garry', '2851')\",\n",
       " \"('2000.01.18', 'Van Wely, Loek', '2646')\",\n",
       " \"('2000.01.28', 'Kasparov, Garry', '2851')\",\n",
       " \"('2000.01.28', 'Leko, Peter', '2725')\",\n",
       " \"('2000.02.12', 'Kasparov, Garry', '2851')\",\n",
       " \"('2000.02.12', 'Barua, Dibyendu', '2555')\",\n",
       " \"('2000.06.29', 'Kasparov, Garry', '2851')\",\n",
       " \"('2000.06.29', 'Kasparov, Garry', '2851')\",\n",
       " \"('2000.06.23', 'Kasparov, Garry', '2851')\",\n",
       " \"('2000.06.23', 'Morozevich, Alexander', '2748')\",\n",
       " \"('1999.11.20', 'Kasparov, Garry', '2851')\",\n",
       " \"('1999.11.20', 'Kasparov, Garry', '2851')\",\n",
       " \"('2000.06.19', 'Kasparov, Garry', '2851')\",\n",
       " \"('2000.06.24', 'Kasparov, Garry', '2851')\",\n",
       " \"('2000.06.24', 'Leko, Peter', '2725')\",\n",
       " \"('2000.01.30', 'Kasparov, Garry', '2851')\",\n",
       " \"('2000.01.30', 'Polgar, Judit', '2658')\",\n",
       " \"('1999.09.05', 'Kasparov, Garry', '2851')\",\n",
       " \"('1999.09.05', 'Timman, Jan H', '2650')\",\n",
       " \"('1999.11.20', 'Kasparov, Garry', '2851')\",\n",
       " \"('2000.04.02', 'Kasparov, Garry', '2851')\",\n",
       " \"('2000.04.02', 'Anand, Viswanathan', '2769')\",\n",
       " \"('2000.06.19', 'Kasparov, Garry', '2851')\",\n",
       " \"('2000.06.19', 'Kasparov, Garry', '2851')\",\n",
       " \"('1999.11.20', 'Kasparov, Garry', '2851')\",\n",
       " \"('2000.06.19', 'Kasparov, Garry', '2851')\",\n",
       " \"('2000.03.14', 'Kasparov, Garry', '2851')\",\n",
       " \"('2000.04.01', 'Kasparov, Garry', '2851')\",\n",
       " \"('2000.04.01', 'Kortschnoj, Viktor', '2659')\",\n",
       " \"('2000.03.14', 'Kasparov, Garry', '2851')\",\n",
       " \"('2000.06.19', 'Kasparov, Garry', '2851')\",\n",
       " \"('2000.03.14', 'Kasparov, Garry', '2851')\",\n",
       " \"('2000.06.19', 'Kasparov, Garry', '2851')\",\n",
       " \"('2000.06.19', 'Wendt, Rene', '2332')\",\n",
       " \"('2000.03.14', 'Kasparov, Garry', '2851')\",\n",
       " \"('2000.03.14', 'Kasparov, Garry', '2851')\",\n",
       " \"('2000.03.07', 'Kasparov, Garry', '2851')\",\n",
       " \"('2000.03.07', 'Khalifman, Alexander', '2656')\",\n",
       " \"('2000.04.01', 'Kasparov, Garry', '2851')\",\n",
       " \"('2000.04.01', 'Petursson, Margeir', '2544')\",\n",
       " \"('2000.03.04', 'Kasparov, Garry', '2851')\",\n",
       " \"('2000.03.04', 'Leko, Peter', '2725')\",\n",
       " \"('1999.11.20', 'Kasparov, Garry', '2851')\",\n",
       " \"('2000.03.14', 'Kasparov, Garry', '2851')\",\n",
       " \"('2000.02.28', 'Kasparov, Garry', '2851')\",\n",
       " \"('2000.02.28', 'Shirov, Alexei', '2751')\",\n",
       " \"('2000.03.14', 'Kasparov, Garry', '2851')\",\n",
       " \"('1999.11.20', 'Kasparov, Garry', '2851')\",\n",
       " \"('2000.01.20', 'Kasparov, Garry', '2851')\",\n",
       " \"('2000.01.20', 'Morozevich, Alexander', '2748')\",\n",
       " \"('2000.03.14', 'Kasparov, Garry', '2851')\",\n",
       " \"('1999.11.20', 'Kasparov, Garry', '2851')\",\n",
       " \"('1999.11.20', 'Kasparov, Garry', '2851')\",\n",
       " \"('1999.11.20', 'Coimbra, Margarida Goncalves', '2066')\",\n",
       " \"('2000.03.14', 'Kasparov, Garry', '2851')\",\n",
       " \"('1999.11.20', 'Kasparov, Garry', '2851')\",\n",
       " \"('2000.05.21', 'Kasparov, Garry', '2851')\",\n",
       " \"('2000.05.21', 'Sokolov, Ivan', '2637')\",\n",
       " \"('2000.06.23', 'Kasparov, Garry', '2851')\",\n",
       " \"('2000.06.23', 'Shirov, Alexei', '2751')\",\n",
       " \"('2000.04.02', 'Kasparov, Garry', '2851')\",\n",
       " \"('2000.04.02', 'Anand, Viswanathan', '2769')\",\n",
       " \"('2000.03.14', 'Kasparov, Garry', '2851')\",\n",
       " \"('2000.06.25', 'Kasparov, Garry', '2851')\",\n",
       " \"('2000.06.25', 'Kramnik, Vladimir', '2758')\",\n",
       " \"('1999.11.20', 'Kasparov, Garry', '2851')\",\n",
       " \"('2000.02.17', 'Kasparov, Garry', '2851')\",\n",
       " \"('2000.02.17', 'Adams, Michael', '2715')\",\n",
       " \"('1999.11.20', 'Kasparov, Garry', '2851')\",\n",
       " \"('2000.05.13', 'Kasparov, Garry', '2851')\",\n",
       " \"('2000.05.13', 'Polgar, Judit', '2658')\",\n",
       " \"('2000.06.19', 'Kasparov, Garry', '2851')\",\n",
       " \"('2000.01.25', 'Kasparov, Garry', '2851')\",\n",
       " \"('2000.01.25', 'Timman, Jan H', '2655')\",\n",
       " \"('1999.11.20', 'Kasparov, Garry', '2851')\",\n",
       " \"('2000.03.14', 'Kasparov, Garry', '2851')\",\n",
       " \"('2000.06.29', 'Kasparov, Garry', '2851')\",\n",
       " \"('1999.11.20', 'Kasparov, Garry', '2851')\",\n",
       " \"('1999.11.20', 'Kasparov, Garry', '2851')\",\n",
       " \"('2000.03.14', 'Kasparov, Garry', '2851')\",\n",
       " \"('2000.04.02', 'Kasparov, Garry', '2851')\",\n",
       " \"('2000.04.02', 'Wojtkiewicz, Aleksander', '2563')\",\n",
       " \"('2000.02.13', 'Kasparov, Garry', '2851')\",\n",
       " \"('2000.02.13', 'Van Wely, Loek', '2646')\",\n",
       " \"('2000.06.19', 'Kasparov, Garry', '2851')\",\n",
       " \"('2000.06.19', 'Kasparov, Garry', '2851')\",\n",
       " \"('2000.06.19', 'Baramidze, David', '2154')\"]"
      ]
     },
     "execution_count": 4,
     "metadata": {},
     "output_type": "execute_result"
    }
   ],
   "source": [
    "import pyspark\n",
    "from pyspark.sql import SparkSession\n",
    "import pandas as pd\n",
    "\n",
    "dataUri = \"gs://big-data-bucket-1/chess/players.txt\"\n",
    "sc.stop()\n",
    "sc = pyspark.SparkContext()\n",
    "spark = SparkSession(sc)\n",
    "\n",
    "lines = sc.textFile(dataUri)\n",
    "words = lines.map(lambda line:line.split(','))\n",
    "words.take(100)"
   ]
  },
  {
   "cell_type": "code",
   "execution_count": 37,
   "metadata": {},
   "outputs": [
    {
     "name": "stdout",
     "output_type": "stream",
     "text": [
      "+----------+----+----+--------------------+----+\n",
      "|        _1|  _2|  _3|                  _4|  _5|\n",
      "+----------+----+----+--------------------+----+\n",
      "|2000.03.14|2000|2000|     Kasparov, Garry|2851|\n",
      "|2000.03.14|2000|2000|     Kasparov, Garry|2851|\n",
      "|1999.11.20|1999|1990|     Kasparov, Garry|2851|\n",
      "|1999.11.20|1999|1990|     Kasparov, Garry|2851|\n",
      "|2000.02.20|2000|2000|     Kasparov, Garry|2851|\n",
      "|2000.02.20|2000|2000|       Piket, Jeroen|2633|\n",
      "|2000.05.24|2000|2000|     Kasparov, Garry|2851|\n",
      "|2000.05.24|2000|2000|Morozevich, Alexa...|2748|\n",
      "|2000.06.19|2000|2000|     Kasparov, Garry|2851|\n",
      "|2000.06.19|2000|2000| Niebling, Ferdinand|2191|\n",
      "|1999.11.20|1999|1990|     Kasparov, Garry|2851|\n",
      "|2000.06.19|2000|2000|     Kasparov, Garry|2851|\n",
      "|2000.06.19|2000|2000|     Gypser, Andreas|2175|\n",
      "|2000.01.18|2000|2000|     Kasparov, Garry|2851|\n",
      "|2000.01.18|2000|2000|      Van Wely, Loek|2646|\n",
      "|2000.01.28|2000|2000|     Kasparov, Garry|2851|\n",
      "|2000.01.28|2000|2000|         Leko, Peter|2725|\n",
      "|2000.02.12|2000|2000|     Kasparov, Garry|2851|\n",
      "|2000.02.12|2000|2000|     Barua, Dibyendu|2555|\n",
      "|2000.06.29|2000|2000|     Kasparov, Garry|2851|\n",
      "+----------+----+----+--------------------+----+\n",
      "only showing top 20 rows\n",
      "\n"
     ]
    }
   ],
   "source": [
    "words = lines.map(lambda line:line.split(\"'\")).map(lambda line: (line[1],line[1][:4],line[1][:3]+\"0\", line[3], line[5]))\n",
    "\n",
    "df = words.toDF()\n",
    "df.show()"
   ]
  },
  {
   "cell_type": "code",
   "execution_count": 38,
   "metadata": {},
   "outputs": [],
   "source": [
    "df = df.withColumnRenamed(\"_1\",\"date\").withColumnRenamed(\"_2\",\"year\").withColumnRenamed(\"_3\",\"decade\").withColumnRenamed(\"_4\",\"name\").withColumnRenamed(\"_5\",\"elo\")"
   ]
  },
  {
   "cell_type": "code",
   "execution_count": 39,
   "metadata": {},
   "outputs": [],
   "source": [
    "from pyspark.sql.types import IntegerType, StringType\n",
    "df = df.withColumn(\"elo\", df[\"elo\"].cast(IntegerType()))"
   ]
  },
  {
   "cell_type": "code",
   "execution_count": 40,
   "metadata": {},
   "outputs": [],
   "source": [
    "from pyspark.sql.functions import count, avg, desc, asc, col\n",
    "data = df.groupBy(\"name\", \"year\").agg(count(\"elo\").alias(\"num_games\"),avg(\"elo\").alias(\"avg_elo\")).orderBy(desc(\"avg_elo\")).where(col(\"num_games\") > 10)\n"
   ]
  },
  {
   "cell_type": "code",
   "execution_count": 35,
   "metadata": {},
   "outputs": [
    {
     "data": {
      "text/plain": [
       "125083"
      ]
     },
     "execution_count": 35,
     "metadata": {},
     "output_type": "execute_result"
    }
   ],
   "source": [
    "data.count()"
   ]
  },
  {
   "cell_type": "code",
   "execution_count": 41,
   "metadata": {},
   "outputs": [],
   "source": [
    "data.toPandas().to_csv('gs://big-data-bucket-1/chess/players_output.csv')"
   ]
  },
  {
   "cell_type": "code",
   "execution_count": null,
   "metadata": {},
   "outputs": [],
   "source": []
  },
  {
   "cell_type": "code",
   "execution_count": null,
   "metadata": {},
   "outputs": [],
   "source": []
  }
 ],
 "metadata": {
  "kernelspec": {
   "display_name": "Python 3",
   "language": "python",
   "name": "python3"
  },
  "language_info": {
   "codemirror_mode": {
    "name": "ipython",
    "version": 3
   },
   "file_extension": ".py",
   "mimetype": "text/x-python",
   "name": "python",
   "nbconvert_exporter": "python",
   "pygments_lexer": "ipython3",
   "version": "3.6.12"
  }
 },
 "nbformat": 4,
 "nbformat_minor": 2
}
