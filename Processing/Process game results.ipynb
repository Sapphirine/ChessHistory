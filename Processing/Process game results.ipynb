{
 "cells": [
  {
   "cell_type": "code",
   "execution_count": 21,
   "metadata": {},
   "outputs": [
    {
     "data": {
      "text/plain": [
       "[['(', 'Kasparov, Garry', ', ', 'Stoffers, Jeffrey', ', ', '1-0', ')'],\n",
       " ['(', 'Kasparov, Garry', ', ', 'Tomasso, Santiago', ', ', '1-0', ')'],\n",
       " ['(', 'Kasparov, Garry', ', ', 'Teixeira, Rafael Goltsman', ', ', '1-0', ')'],\n",
       " ['(',\n",
       "  'Kasparov, Garry',\n",
       "  ', ',\n",
       "  'Quintino, Luis Felipe Pires',\n",
       "  ', ',\n",
       "  '1-0',\n",
       "  ')'],\n",
       " ['(', 'Kasparov, Garry', ', ', 'Piket, Jeroen', ', ', '1/2-1/2', ')'],\n",
       " ['(', 'Kasparov, Garry', ', ', 'Morozevich, Alexander', ', ', '1/2-1/2', ')'],\n",
       " ['(', 'Kasparov, Garry', ', ', 'Niebling, Ferdinand', ', ', '1-0', ')'],\n",
       " ['(', 'Kasparov, Garry', ', ', 'Oliveira, Vera', ', ', '1-0', ')'],\n",
       " ['(', 'Kasparov, Garry', ', ', 'Gypser, Andreas', ', ', '1/2-1/2', ')'],\n",
       " ['(', 'Kasparov, Garry', ', ', 'Van Wely, Loek', ', ', '1-0', ')']]"
      ]
     },
     "execution_count": 21,
     "metadata": {},
     "output_type": "execute_result"
    }
   ],
   "source": [
    "import pyspark\n",
    "from pyspark.sql import SparkSession\n",
    "import pandas as pd\n",
    "\n",
    "dataUri = \"gs://big-data-bucket-1/chess/game_results.txt\"\n",
    "sc.stop()\n",
    "sc = pyspark.SparkContext()\n",
    "spark = SparkSession(sc)\n",
    "\n",
    "lines = sc.textFile(dataUri)\n",
    "words = lines.map(lambda line:line.split(\"'\"))\n",
    "words.take(10)"
   ]
  },
  {
   "cell_type": "code",
   "execution_count": 22,
   "metadata": {},
   "outputs": [
    {
     "name": "stdout",
     "output_type": "stream",
     "text": [
      "+---------------+--------------------+-------+--------------------+--------------------+\n",
      "|             _1|                  _2|     _3|                  _4|                  _5|\n",
      "+---------------+--------------------+-------+--------------------+--------------------+\n",
      "|Kasparov, Garry|   Stoffers, Jeffrey|    1-0|     Kasparov, Garry|   Stoffers, Jeffrey|\n",
      "|Kasparov, Garry|   Tomasso, Santiago|    1-0|     Kasparov, Garry|   Tomasso, Santiago|\n",
      "|Kasparov, Garry|Teixeira, Rafael ...|    1-0|     Kasparov, Garry|Teixeira, Rafael ...|\n",
      "|Kasparov, Garry|Quintino, Luis Fe...|    1-0|     Kasparov, Garry|Quintino, Luis Fe...|\n",
      "|Kasparov, Garry|       Piket, Jeroen|1/2-1/2|     Kasparov, Garry|       Piket, Jeroen|\n",
      "|Kasparov, Garry|Morozevich, Alexa...|1/2-1/2|     Kasparov, Garry|Morozevich, Alexa...|\n",
      "|Kasparov, Garry| Niebling, Ferdinand|    1-0|     Kasparov, Garry| Niebling, Ferdinand|\n",
      "|Kasparov, Garry|      Oliveira, Vera|    1-0|     Kasparov, Garry|      Oliveira, Vera|\n",
      "|Kasparov, Garry|     Gypser, Andreas|1/2-1/2|     Gypser, Andreas|     Kasparov, Garry|\n",
      "|Kasparov, Garry|      Van Wely, Loek|    1-0|     Kasparov, Garry|      Van Wely, Loek|\n",
      "|Kasparov, Garry|         Leko, Peter|1/2-1/2|     Kasparov, Garry|         Leko, Peter|\n",
      "|Kasparov, Garry|     Barua, Dibyendu|    1-0|     Barua, Dibyendu|     Kasparov, Garry|\n",
      "|Kasparov, Garry|        Botti, Chris|    1-0|        Botti, Chris|     Kasparov, Garry|\n",
      "|Kasparov, Garry|     Miller, Dominic|    1-0|     Kasparov, Garry|     Miller, Dominic|\n",
      "|Kasparov, Garry|Morozevich, Alexa...|1/2-1/2|     Kasparov, Garry|Morozevich, Alexa...|\n",
      "|Kasparov, Garry|Cortinhas, Marian...|    1-0|Cortinhas, Marian...|     Kasparov, Garry|\n",
      "|Kasparov, Garry|       Costa, Carlos|    1-0|       Costa, Carlos|     Kasparov, Garry|\n",
      "|Kasparov, Garry|     Ringel, Andreas|    1-0|     Kasparov, Garry|     Ringel, Andreas|\n",
      "|Kasparov, Garry|         Leko, Peter|    0-1|     Kasparov, Garry|         Leko, Peter|\n",
      "|Kasparov, Garry|       Polgar, Judit|    1-0|     Kasparov, Garry|       Polgar, Judit|\n",
      "+---------------+--------------------+-------+--------------------+--------------------+\n",
      "only showing top 20 rows\n",
      "\n"
     ]
    }
   ],
   "source": [
    "words = lines.map(lambda line:line.split(\"'\")).map(lambda line: (line[1],line[3],line[5],line[1] if line[1]<line[3] else line[3], line[3] if line[1]<line[3] else line[1]))\n",
    "\n",
    "df = words.toDF()\n",
    "df.show()"
   ]
  },
  {
   "cell_type": "code",
   "execution_count": 23,
   "metadata": {},
   "outputs": [
    {
     "name": "stdout",
     "output_type": "stream",
     "text": [
      "+---------------+--------------------+-------+--------------------+--------------------+\n",
      "|          white|               black| result|             player1|             player2|\n",
      "+---------------+--------------------+-------+--------------------+--------------------+\n",
      "|Kasparov, Garry|   Stoffers, Jeffrey|    1-0|     Kasparov, Garry|   Stoffers, Jeffrey|\n",
      "|Kasparov, Garry|   Tomasso, Santiago|    1-0|     Kasparov, Garry|   Tomasso, Santiago|\n",
      "|Kasparov, Garry|Teixeira, Rafael ...|    1-0|     Kasparov, Garry|Teixeira, Rafael ...|\n",
      "|Kasparov, Garry|Quintino, Luis Fe...|    1-0|     Kasparov, Garry|Quintino, Luis Fe...|\n",
      "|Kasparov, Garry|       Piket, Jeroen|1/2-1/2|     Kasparov, Garry|       Piket, Jeroen|\n",
      "|Kasparov, Garry|Morozevich, Alexa...|1/2-1/2|     Kasparov, Garry|Morozevich, Alexa...|\n",
      "|Kasparov, Garry| Niebling, Ferdinand|    1-0|     Kasparov, Garry| Niebling, Ferdinand|\n",
      "|Kasparov, Garry|      Oliveira, Vera|    1-0|     Kasparov, Garry|      Oliveira, Vera|\n",
      "|Kasparov, Garry|     Gypser, Andreas|1/2-1/2|     Gypser, Andreas|     Kasparov, Garry|\n",
      "|Kasparov, Garry|      Van Wely, Loek|    1-0|     Kasparov, Garry|      Van Wely, Loek|\n",
      "|Kasparov, Garry|         Leko, Peter|1/2-1/2|     Kasparov, Garry|         Leko, Peter|\n",
      "|Kasparov, Garry|     Barua, Dibyendu|    1-0|     Barua, Dibyendu|     Kasparov, Garry|\n",
      "|Kasparov, Garry|        Botti, Chris|    1-0|        Botti, Chris|     Kasparov, Garry|\n",
      "|Kasparov, Garry|     Miller, Dominic|    1-0|     Kasparov, Garry|     Miller, Dominic|\n",
      "|Kasparov, Garry|Morozevich, Alexa...|1/2-1/2|     Kasparov, Garry|Morozevich, Alexa...|\n",
      "|Kasparov, Garry|Cortinhas, Marian...|    1-0|Cortinhas, Marian...|     Kasparov, Garry|\n",
      "|Kasparov, Garry|       Costa, Carlos|    1-0|       Costa, Carlos|     Kasparov, Garry|\n",
      "|Kasparov, Garry|     Ringel, Andreas|    1-0|     Kasparov, Garry|     Ringel, Andreas|\n",
      "|Kasparov, Garry|         Leko, Peter|    0-1|     Kasparov, Garry|         Leko, Peter|\n",
      "|Kasparov, Garry|       Polgar, Judit|    1-0|     Kasparov, Garry|       Polgar, Judit|\n",
      "+---------------+--------------------+-------+--------------------+--------------------+\n",
      "only showing top 20 rows\n",
      "\n"
     ]
    }
   ],
   "source": [
    "df = df.withColumnRenamed(\"_1\",\"white\").withColumnRenamed(\"_2\",\"black\").withColumnRenamed(\"_3\",\"result\").withColumnRenamed(\"_4\",\"player1\").withColumnRenamed(\"_5\",\"player2\")\n",
    "df.show()"
   ]
  },
  {
   "cell_type": "code",
   "execution_count": 26,
   "metadata": {},
   "outputs": [],
   "source": [
    "df.toPandas().to_csv('gs://big-data-bucket-1/chess/game_results.csv')"
   ]
  },
  {
   "cell_type": "code",
   "execution_count": null,
   "metadata": {},
   "outputs": [],
   "source": []
  }
 ],
 "metadata": {
  "kernelspec": {
   "display_name": "Python 3",
   "language": "python",
   "name": "python3"
  },
  "language_info": {
   "codemirror_mode": {
    "name": "ipython",
    "version": 3
   },
   "file_extension": ".py",
   "mimetype": "text/x-python",
   "name": "python",
   "nbconvert_exporter": "python",
   "pygments_lexer": "ipython3",
   "version": "3.6.12"
  }
 },
 "nbformat": 4,
 "nbformat_minor": 2
}
